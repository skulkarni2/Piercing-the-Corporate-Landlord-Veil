{
 "cells": [
  {
   "cell_type": "code",
   "execution_count": 5,
   "metadata": {
    "collapsed": true
   },
   "outputs": [],
   "source": [
    "import re\n",
    "import string"
   ]
  },
  {
   "cell_type": "code",
   "execution_count": 81,
   "metadata": {
    "collapsed": true
   },
   "outputs": [],
   "source": [
    "def normalize_address_for_display(address):\n",
    "    \n",
    "    # capitalize all the charaters\n",
    "    display_address = string.capwords(address)\n",
    "    # remove all the punctuations\n",
    "    display_address = address.translate(None, string.punctuation)\n",
    "\n",
    "    # Normalize Avenue\n",
    "    display_address = re.sub(r'\\b(Avenue|Ave.)\\b', 'Ave', display_address)\n",
    "\n",
    "    # Normalize Street\n",
    "    display_address = re.sub(r'\\b(Street|St.)\\b', 'St', display_address)\n",
    "    \n",
    "    # Normalize Boulevard\n",
    "    display_address = re.sub(r'\\b(Boulevard|blvd.)\\b', 'Blvd', display_address)\n",
    "    \n",
    "    # Normalize Square\n",
    "    display_address = re.sub(r'\\b(Square|Sq.)\\b', 'Sq', display_address)\n",
    "    \n",
    "    # Normalize Road\n",
    "    display_address = re.sub(r'\\b(Road|rd.)\\b', 'Rd', display_address)\n",
    "    \n",
    "    # Normalize Place\n",
    "    display_address = re.sub(r'\\b(Place|Pl.)\\b', 'Pl', display_address)\n",
    "    \n",
    "    # Normalize Highway\n",
    "    display_address = re.sub(r'\\b(Highway|Hwy.)\\b', 'Hwy', display_address)\n",
    "    \n",
    "    # Normalize Parkway\n",
    "    display_address = re.sub(r'\\b(Parkwaye|Pkwy.)\\b', 'Pkwy', display_address)\n",
    "    \n",
    "     # Normalize Drive\n",
    "    display_address = re.sub(r'\\b(Drive|Dr.)\\b', 'Dr', display_address)\n",
    "    \n",
    "     # Normalize Lane\n",
    "    display_address = re.sub(r'\\b(Lane|Ln.)\\b', 'Ln', display_address)\n",
    "    \n",
    "     # Normalize Center\n",
    "    display_address = re.sub(r'\\b(Center|ctr.)\\b', 'Ctr', display_address)\n",
    "    \n",
    "    # Remove the numberic words\n",
    "    display_address = re.sub(r'\\b(First|1st)\\b', '1', display_address)\n",
    "    display_address = re.sub(r'\\b(Second|2nd)\\b', '2', display_address)\n",
    "    display_address = re.sub(r'\\b(Third|3rd)\\b', '3', display_address)\n",
    "    display_address = re.sub(r'\\b(Fourth|4th)\\b', '4', display_address)\n",
    "    display_address = re.sub(r'\\b(Fifth|5th)\\b', '5', display_address)\n",
    "    display_address = re.sub(r'\\b(Sixth|6th)\\b', '6', display_address)\n",
    "    display_address = re.sub(r'\\b(Seventh|7th)\\b', '7', display_address)\n",
    "    display_address = re.sub(r'\\b(Eighth|8th)\\b', '8', display_address)\n",
    "    display_address = re.sub(r'\\b(Nineth|9th)\\b', '9', display_address)\n",
    "    display_address = re.sub(r'\\b(Tenth|10th)\\b', '10', display_address)\n",
    "    \n",
    "    ## remove the th,rd,nd,st\n",
    "    add_lst = display_address.split(' ')\n",
    "    p = []\n",
    "    for i in add_lst:\n",
    "        if i.endswith('th') or i.endswith('st') or i.endswith('nd') or i.endswith('rd'):\n",
    "            i = i[:-2]\n",
    "        p.append(i)\n",
    "    display_address = ' '.join(c for c in p)    \n",
    "    \n",
    "    return display_address"
   ]
  },
  {
   "cell_type": "code",
   "execution_count": 82,
   "metadata": {
    "collapsed": true
   },
   "outputs": [],
   "source": [
    "address1 = '100 23rd Street 42nd floor'"
   ]
  },
  {
   "cell_type": "code",
   "execution_count": 83,
   "metadata": {
    "collapsed": false
   },
   "outputs": [
    {
     "data": {
      "text/plain": [
       "'100 23 St 42 floor'"
      ]
     },
     "execution_count": 83,
     "metadata": {},
     "output_type": "execute_result"
    }
   ],
   "source": [
    "normalize_address_for_display(address1)"
   ]
  },
  {
   "cell_type": "code",
   "execution_count": null,
   "metadata": {
    "collapsed": true
   },
   "outputs": [],
   "source": []
  }
 ],
 "metadata": {
  "kernelspec": {
   "display_name": "PUI2016_Python2",
   "language": "python",
   "name": "pui2016_python2"
  },
  "language_info": {
   "codemirror_mode": {
    "name": "ipython",
    "version": 2
   },
   "file_extension": ".py",
   "mimetype": "text/x-python",
   "name": "python",
   "nbconvert_exporter": "python",
   "pygments_lexer": "ipython2",
   "version": "2.7.12"
  }
 },
 "nbformat": 4,
 "nbformat_minor": 0
}
